{
  "nbformat": 4,
  "nbformat_minor": 0,
  "metadata": {
    "colab": {
      "name": "Segmentation-training_list.ipynb",
      "provenance": [],
      "collapsed_sections": [],
      "machine_shape": "hm",
      "authorship_tag": "ABX9TyMbq1pVY1mPAUFMWMEG3/4t",
      "include_colab_link": true
    },
    "kernelspec": {
      "name": "python3",
      "display_name": "Python 3"
    },
    "language_info": {
      "name": "python"
    },
    "accelerator": "GPU"
  },
  "cells": [
    {
      "cell_type": "markdown",
      "metadata": {
        "id": "view-in-github",
        "colab_type": "text"
      },
      "source": [
        "<a href=\"https://colab.research.google.com/github/Kyveli-tsioli/cycada_release/blob/master/Segmentation_training_list.ipynb\" target=\"_parent\"><img src=\"https://colab.research.google.com/assets/colab-badge.svg\" alt=\"Open In Colab\"/></a>"
      ]
    },
    {
      "cell_type": "code",
      "metadata": {
        "id": "b2fzOLPY9x4Z",
        "colab": {
          "base_uri": "https://localhost:8080/"
        },
        "outputId": "eab8fa63-7328-46b3-8552-1f87546a81d0"
      },
      "source": [
        "from google.colab import drive\n",
        "drive.mount('/content/gdrive',force_remount=True)"
      ],
      "execution_count": null,
      "outputs": [
        {
          "output_type": "stream",
          "text": [
            "Mounted at /content/gdrive\n"
          ],
          "name": "stdout"
        }
      ]
    },
    {
      "cell_type": "code",
      "metadata": {
        "id": "bmjS1Ci0O5Ez"
      },
      "source": [
        "import torch\n",
        "import torch.nn as nn\n",
        "import torch.nn.functional as F\n",
        "import torch.optim as optim\n",
        "import torch.utils.data as data\n",
        "from torch.utils.data import Dataset, DataLoader\n",
        "\n",
        "\n",
        "import torchvision.transforms as transforms #common image transformations\n",
        "import torchvision.datasets as datasets\n",
        "\n",
        "import matplotlib.pyplot as plt\n",
        "import numpy as np\n",
        "import random\n",
        "\n",
        "import tensorflow as tf\n",
        "from tensorflow import keras\n",
        "from tensorflow.keras import layers\n",
        "from torch.autograd import Variable\n",
        "\n",
        "\n",
        "#imports for confusion matrix\n",
        "from sklearn.metrics import confusion_matrix\n",
        "from sklearn.metrics import plot_confusion_matrix\n",
        "import seaborn as sn\n",
        "import pandas as pd\n",
        "\n",
        "from copy import deepcopy\n",
        "from collections import deque\n",
        "from PIL import Image\n",
        "import math\n",
        "\n",
        "import os\n",
        "import shutil"
      ],
      "execution_count": null,
      "outputs": []
    },
    {
      "cell_type": "code",
      "metadata": {
        "id": "jxFC43c775Wc"
      },
      "source": [
        "torch.cuda.empty_cache()"
      ],
      "execution_count": null,
      "outputs": []
    },
    {
      "cell_type": "code",
      "metadata": {
        "colab": {
          "base_uri": "https://localhost:8080/"
        },
        "id": "YbIEqkXrcuMk",
        "outputId": "5da14b1e-b2af-4afb-c9e1-f6c6398d6282"
      },
      "source": [
        "!pip install torch==1.9.0 "
      ],
      "execution_count": null,
      "outputs": [
        {
          "output_type": "stream",
          "text": [
            "Requirement already satisfied: torch==1.9.0 in /usr/local/lib/python3.7/dist-packages (1.9.0+cu102)\n",
            "Requirement already satisfied: typing-extensions in /usr/local/lib/python3.7/dist-packages (from torch==1.9.0) (3.7.4.3)\n"
          ],
          "name": "stdout"
        }
      ]
    },
    {
      "cell_type": "code",
      "metadata": {
        "colab": {
          "base_uri": "https://localhost:8080/"
        },
        "id": "sX_sKY1nsJVW",
        "outputId": "449941a1-fcdf-4c5f-ccc9-2abd6af48e3e"
      },
      "source": [
        "!pip install torchvision --upgrade"
      ],
      "execution_count": null,
      "outputs": [
        {
          "output_type": "stream",
          "text": [
            "Requirement already satisfied: torchvision in /usr/local/lib/python3.7/dist-packages (0.10.0+cu102)\n",
            "Requirement already satisfied: torch==1.9.0 in /usr/local/lib/python3.7/dist-packages (from torchvision) (1.9.0+cu102)\n",
            "Requirement already satisfied: pillow>=5.3.0 in /usr/local/lib/python3.7/dist-packages (from torchvision) (7.1.2)\n",
            "Requirement already satisfied: numpy in /usr/local/lib/python3.7/dist-packages (from torchvision) (1.19.5)\n",
            "Requirement already satisfied: typing-extensions in /usr/local/lib/python3.7/dist-packages (from torch==1.9.0->torchvision) (3.7.4.3)\n"
          ],
          "name": "stdout"
        }
      ]
    },
    {
      "cell_type": "code",
      "metadata": {
        "id": "CRhKIM5VculS",
        "colab": {
          "base_uri": "https://localhost:8080/"
        },
        "outputId": "96d1f9bf-bf79-4671-bbdd-e9d6b5254ff0"
      },
      "source": [
        "import torch\n",
        "print(torch.__version__)"
      ],
      "execution_count": null,
      "outputs": [
        {
          "output_type": "stream",
          "text": [
            "1.9.0+cu102\n"
          ],
          "name": "stdout"
        }
      ]
    },
    {
      "cell_type": "code",
      "metadata": {
        "id": "QGiZpMjke8Z6"
      },
      "source": [
        "def get_device():\n",
        "    if torch.cuda.is_available():\n",
        "        device = 'cuda:0'\n",
        "    else:\n",
        "        device = 'cpu'\n",
        "    return device"
      ],
      "execution_count": null,
      "outputs": []
    },
    {
      "cell_type": "code",
      "metadata": {
        "colab": {
          "base_uri": "https://localhost:8080/"
        },
        "id": "pzxX30adzOUk",
        "outputId": "80f6f56a-50cb-4087-9da7-767c8015d8d4"
      },
      "source": [
        "#packages to print our process memory usage\n",
        "!pip install gputil\n",
        "!pip install psutil\n",
        "!pip install humanize"
      ],
      "execution_count": null,
      "outputs": [
        {
          "output_type": "stream",
          "text": [
            "Collecting gputil\n",
            "  Downloading GPUtil-1.4.0.tar.gz (5.5 kB)\n",
            "Building wheels for collected packages: gputil\n",
            "  Building wheel for gputil (setup.py) ... \u001b[?25l\u001b[?25hdone\n",
            "  Created wheel for gputil: filename=GPUtil-1.4.0-py3-none-any.whl size=7410 sha256=7732b870908fbc9741d5294274d2bce2579ac535ed31697d9680c489b6f579ff\n",
            "  Stored in directory: /root/.cache/pip/wheels/6e/f8/83/534c52482d6da64622ddbf72cd93c35d2ef2881b78fd08ff0c\n",
            "Successfully built gputil\n",
            "Installing collected packages: gputil\n",
            "Successfully installed gputil-1.4.0\n",
            "Requirement already satisfied: psutil in /usr/local/lib/python3.7/dist-packages (5.4.8)\n",
            "Requirement already satisfied: humanize in /usr/local/lib/python3.7/dist-packages (0.5.1)\n"
          ],
          "name": "stdout"
        }
      ]
    },
    {
      "cell_type": "code",
      "metadata": {
        "colab": {
          "base_uri": "https://localhost:8080/"
        },
        "id": "dbSAZ5pVqd5U",
        "outputId": "6a008043-7ad1-4b5f-eb6b-c4c8531874de"
      },
      "source": [
        "!pip install tensorboardX"
      ],
      "execution_count": null,
      "outputs": [
        {
          "output_type": "stream",
          "text": [
            "Collecting tensorboardX\n",
            "  Downloading tensorboardX-2.4-py2.py3-none-any.whl (124 kB)\n",
            "\u001b[K     |████████████████████████████████| 124 kB 4.9 MB/s \n",
            "\u001b[?25hRequirement already satisfied: numpy in /usr/local/lib/python3.7/dist-packages (from tensorboardX) (1.19.5)\n",
            "Requirement already satisfied: protobuf>=3.8.0 in /usr/local/lib/python3.7/dist-packages (from tensorboardX) (3.17.3)\n",
            "Requirement already satisfied: six>=1.9 in /usr/local/lib/python3.7/dist-packages (from protobuf>=3.8.0->tensorboardX) (1.15.0)\n",
            "Installing collected packages: tensorboardX\n",
            "Successfully installed tensorboardX-2.4\n"
          ],
          "name": "stdout"
        }
      ]
    },
    {
      "cell_type": "code",
      "metadata": {
        "colab": {
          "base_uri": "https://localhost:8080/"
        },
        "id": "LjqP7sX4LfpC",
        "outputId": "57b67ad8-0bcc-4567-b92c-04a87aefff8c"
      },
      "source": [
        "print(os.getcwd())\n",
        "os.chdir('/content/gdrive/MyDrive/segmentation')\n",
        "print(os.getcwd())"
      ],
      "execution_count": null,
      "outputs": [
        {
          "output_type": "stream",
          "text": [
            "/content\n",
            "/content/gdrive/MyDrive/segmentation\n"
          ],
          "name": "stdout"
        }
      ]
    },
    {
      "cell_type": "code",
      "metadata": {
        "id": "mvzL2es2lkWB",
        "colab": {
          "base_uri": "https://localhost:8080/"
        },
        "outputId": "470feb58-34a1-460a-9bdf-2d6779d72641"
      },
      "source": [
        "!python ../segmentation/train_fcn.py \\\n",
        "--outdir results/cityscapes/cityscapes_fcn8s \\\n",
        "--model fcn8s \\\n",
        "--num_cls 19 \\\n",
        "--lr 1e-3 \\\n",
        "--batch_size 1 \\\n",
        "--p_synthetic 0.8 \\\n",
        "--momentum 0.9 \\\n",
        "--crop_size 512 \\\n",
        "--iterations 2 \\\n",
        "--downscale 1 \\\n",
        "--datadir /content/gdrive/MyDrive \\\n",
        "--dataset cityscapes \n",
        "\n",
        "#was iterations 100000\n",
        "#downscale 1 added\n",
        "#batch size was 6\n",
        "#crop size: size of patches, was 600 for the initial (original) dimension of the image (1024)\n",
        "#now i downscaled the image from 1024 to 512\n",
        "#so the crop_size should be less than 512 (600 was initially), i put it 500\n",
        "\n",
        " "
      ],
      "execution_count": null,
      "outputs": [
        {
          "output_type": "stream",
          "text": [
            "/usr/local/lib/python3.7/dist-packages/torchvision/transforms/transforms.py:281: UserWarning: Argument interpolation should be of type InterpolationMode instead of int. Please, use InterpolationMode enum.\n",
            "  \"Argument interpolation should be of type InterpolationMode instead of int. \"\n",
            "Resume from iteration 150000\n",
            "[2021-07-23 17:24:55,319] WARNING  Clipping input data to the valid range for imshow with RGB data ([0..1] for floats or [0..255] for integers).\n",
            "[2021-07-23 17:24:56,679] WARNING  Clipping input data to the valid range for imshow with RGB data ([0..1] for floats or [0..255] for integers).\n",
            "[2021-07-23 17:24:57,880] WARNING  Clipping input data to the valid range for imshow with RGB data ([0..1] for floats or [0..255] for integers).\n",
            "[2021-07-23 17:25:00,501] WARNING  Clipping input data to the valid range for imshow with RGB data ([0..1] for floats or [0..255] for integers).\n",
            "[2021-07-23 17:25:00,727] WARNING  Clipping input data to the valid range for imshow with RGB data ([0..1] for floats or [0..255] for integers).\n",
            "[2021-07-23 17:25:03,466] WARNING  Clipping input data to the valid range for imshow with RGB data ([0..1] for floats or [0..255] for integers).\n",
            "label torch.Size([1, 512, 512])\n",
            "im2 torch.Size([1, 3, 512, 512])\n",
            "/usr/local/lib/python3.7/dist-packages/torch/nn/functional.py:718: UserWarning: Named tensors and all their associated APIs are an experimental feature and subject to change. Please do not use them for anything important until they are released as stable. (Triggered internally at  /pytorch/c10/core/TensorImpl.h:1156.)\n",
            "  return torch.max_pool2d(input, kernel_size, stride, padding, dilation, ceil_mode)\n",
            "/usr/local/lib/python3.7/dist-packages/torch/nn/modules/loss.py:222: UserWarning: NLLLoss2d has been deprecated. Please use NLLLoss instead as a drop-in replacement and see https://pytorch.org/docs/master/nn.html#torch.nn.NLLLoss for more details.\n",
            "  warnings.warn(\"NLLLoss2d has been deprecated. \"\n",
            "/usr/local/lib/python3.7/dist-packages/torch/nn/_reduction.py:42: UserWarning: size_average and reduce args will be deprecated, please use reduction='mean' instead.\n",
            "  warnings.warn(warning.format(ret))\n",
            "../segmentation/train_fcn.py:43: UserWarning: Implicit dimension choice for log_softmax has been deprecated. Change the call to include dim=X as an argument.\n",
            "  loss = loss_fn_(F.log_softmax(score), label) #obtain log-probabilities by adding a log softmax layer in the last layer of the network\n",
            "[2021-07-23 17:25:05,441] INFO     Iteration 0:\t2.9783859252929688\n",
            "[2021-07-23 17:25:06,385] WARNING  Clipping input data to the valid range for imshow with RGB data ([0..1] for floats or [0..255] for integers).\n",
            "[2021-07-23 17:25:07,811] INFO     Iteration 0:\t2.9816133975982666\n",
            "[2021-07-23 17:25:09,295] WARNING  Clipping input data to the valid range for imshow with RGB data ([0..1] for floats or [0..255] for integers).\n",
            "label torch.Size([1, 512, 512])\n",
            "im2 torch.Size([1, 3, 512, 512])\n",
            "[2021-07-23 17:25:11,597] INFO     Optimization complete.\n",
            "counter 2\n",
            "[2021-07-23 17:25:12,297] WARNING  Clipping input data to the valid range for imshow with RGB data ([0..1] for floats or [0..255] for integers).\n"
          ],
          "name": "stdout"
        }
      ]
    },
    {
      "cell_type": "code",
      "metadata": {
        "colab": {
          "base_uri": "https://localhost:8080/"
        },
        "id": "y7t5c6BGqYor",
        "outputId": "1335b2b5-7464-4ad3-d43d-05e75ed4ab69"
      },
      "source": [
        "!python ../segmentation/eval_fcn.py \\\n",
        "--path '../segmentation/results/cityscapes/cityscapes_fcn8s-iter0.pth' \\\n",
        "--dataset cityscapes \\\n",
        "--datadir /content/gdrive/MyDrive \\\n",
        "--model fcn8s \\\n",
        "--num_cls 19\n"
      ],
      "execution_count": null,
      "outputs": [
        {
          "output_type": "stream",
          "text": [
            "/usr/local/lib/python3.7/dist-packages/torch/utils/data/dataloader.py:481: UserWarning: This DataLoader will create 8 worker processes in total. Our suggested max number of worker in current system is 4, which is smaller than what this DataLoader is going to create. Please be aware that excessive worker creation might get DataLoader running slow or even freeze, lower the worker number to avoid potential slowness/freeze if necessary.\n",
            "  cpuset_checked))\n",
            "0it [00:00, ?it/s]Clipping input data to the valid range for imshow with RGB data ([0..1] for floats or [0..255] for integers).\n",
            "Clipping input data to the valid range for imshow with RGB data ([0..1] for floats or [0..255] for integers).\n",
            "Clipping input data to the valid range for imshow with RGB data ([0..1] for floats or [0..255] for integers).\n",
            "Clipping input data to the valid range for imshow with RGB data ([0..1] for floats or [0..255] for integers).\n",
            "Clipping input data to the valid range for imshow with RGB data ([0..1] for floats or [0..255] for integers).\n",
            "Clipping input data to the valid range for imshow with RGB data ([0..1] for floats or [0..255] for integers).\n",
            "Clipping input data to the valid range for imshow with RGB data ([0..1] for floats or [0..255] for integers).\n",
            "Clipping input data to the valid range for imshow with RGB data ([0..1] for floats or [0..255] for integers).\n",
            "/usr/local/lib/python3.7/dist-packages/torch/nn/functional.py:718: UserWarning: Named tensors and all their associated APIs are an experimental feature and subject to change. Please do not use them for anything important until they are released as stable. (Triggered internally at  /pytorch/c10/core/TensorImpl.h:1156.)\n",
            "  return torch.max_pool2d(input, kernel_size, stride, padding, dilation, ceil_mode)\n",
            "6it [00:16,  2.70s/it, mIoU=1.73  fwIoU: 5.96 pixel acc: 9.95 per cls acc: 6.10]Clipping input data to the valid range for imshow with RGB data ([0..1] for floats or [0..255] for integers).\n",
            "8it [00:16,  1.54s/it, mIoU=1.75  fwIoU: 5.90 pixel acc: 10.88 per cls acc: 5.98]Clipping input data to the valid range for imshow with RGB data ([0..1] for floats or [0..255] for integers).\n",
            "Clipping input data to the valid range for imshow with RGB data ([0..1] for floats or [0..255] for integers).\n",
            "Clipping input data to the valid range for imshow with RGB data ([0..1] for floats or [0..255] for integers).\n",
            "Clipping input data to the valid range for imshow with RGB data ([0..1] for floats or [0..255] for integers).\n",
            "Clipping input data to the valid range for imshow with RGB data ([0..1] for floats or [0..255] for integers).\n",
            "Clipping input data to the valid range for imshow with RGB data ([0..1] for floats or [0..255] for integers).\n",
            "Clipping input data to the valid range for imshow with RGB data ([0..1] for floats or [0..255] for integers).\n",
            "13it [00:22,  1.13it/s, mIoU=1.73  fwIoU: 6.05 pixel acc: 10.35 per cls acc: 6.06]Clipping input data to the valid range for imshow with RGB data ([0..1] for floats or [0..255] for integers).\n",
            "16it [00:24,  1.72it/s, mIoU=1.69  fwIoU: 6.57 pixel acc: 10.74 per cls acc: 6.17]Clipping input data to the valid range for imshow with RGB data ([0..1] for floats or [0..255] for integers).\n",
            "Clipping input data to the valid range for imshow with RGB data ([0..1] for floats or [0..255] for integers).\n",
            "Clipping input data to the valid range for imshow with RGB data ([0..1] for floats or [0..255] for integers).\n",
            "Clipping input data to the valid range for imshow with RGB data ([0..1] for floats or [0..255] for integers).\n",
            "Clipping input data to the valid range for imshow with RGB data ([0..1] for floats or [0..255] for integers).\n",
            "Clipping input data to the valid range for imshow with RGB data ([0..1] for floats or [0..255] for integers).\n",
            "Clipping input data to the valid range for imshow with RGB data ([0..1] for floats or [0..255] for integers).\n",
            "17it [00:29,  1.89s/it, mIoU=1.69  fwIoU: 6.61 pixel acc: 10.75 per cls acc: 6.12]Clipping input data to the valid range for imshow with RGB data ([0..1] for floats or [0..255] for integers).\n",
            "22it [00:31,  1.55it/s, mIoU=1.61  fwIoU: 6.74 pixel acc: 10.54 per cls acc: 5.96]Clipping input data to the valid range for imshow with RGB data ([0..1] for floats or [0..255] for integers).\n",
            "23it [00:31,  1.69it/s, mIoU=1.58  fwIoU: 6.68 pixel acc: 10.42 per cls acc: 5.94]Clipping input data to the valid range for imshow with RGB data ([0..1] for floats or [0..255] for integers).\n",
            "24it [00:31,  1.87it/s, mIoU=1.60  fwIoU: 6.95 pixel acc: 10.66 per cls acc: 5.95]Clipping input data to the valid range for imshow with RGB data ([0..1] for floats or [0..255] for integers).\n",
            "Clipping input data to the valid range for imshow with RGB data ([0..1] for floats or [0..255] for integers).\n",
            "Clipping input data to the valid range for imshow with RGB data ([0..1] for floats or [0..255] for integers).\n",
            "Clipping input data to the valid range for imshow with RGB data ([0..1] for floats or [0..255] for integers).\n",
            "Clipping input data to the valid range for imshow with RGB data ([0..1] for floats or [0..255] for integers).\n",
            "Clipping input data to the valid range for imshow with RGB data ([0..1] for floats or [0..255] for integers).\n",
            "31it [00:38,  1.82it/s, mIoU=1.70  fwIoU: 7.30 pixel acc: 11.18 per cls acc: 5.96]Clipping input data to the valid range for imshow with RGB data ([0..1] for floats or [0..255] for integers).\n",
            "32it [00:38,  1.99it/s, mIoU=1.68  fwIoU: 7.16 pixel acc: 10.98 per cls acc: 5.92]Clipping input data to the valid range for imshow with RGB data ([0..1] for floats or [0..255] for integers).\n",
            "Clipping input data to the valid range for imshow with RGB data ([0..1] for floats or [0..255] for integers).\n",
            "Clipping input data to the valid range for imshow with RGB data ([0..1] for floats or [0..255] for integers).\n",
            "Clipping input data to the valid range for imshow with RGB data ([0..1] for floats or [0..255] for integers).\n",
            "Clipping input data to the valid range for imshow with RGB data ([0..1] for floats or [0..255] for integers).\n",
            "Clipping input data to the valid range for imshow with RGB data ([0..1] for floats or [0..255] for integers).\n",
            "34it [00:42,  1.09s/it, mIoU=1.62  fwIoU: 6.93 pixel acc: 10.69 per cls acc: 5.88]Clipping input data to the valid range for imshow with RGB data ([0..1] for floats or [0..255] for integers).\n",
            "37it [00:43,  1.50it/s, mIoU=1.59  fwIoU: 6.96 pixel acc: 10.78 per cls acc: 5.77]Clipping input data to the valid range for imshow with RGB data ([0..1] for floats or [0..255] for integers).\n",
            "40it [00:44,  2.06it/s, mIoU=1.58  fwIoU: 6.98 pixel acc: 10.71 per cls acc: 5.70]Clipping input data to the valid range for imshow with RGB data ([0..1] for floats or [0..255] for integers).\n",
            "Clipping input data to the valid range for imshow with RGB data ([0..1] for floats or [0..255] for integers).\n",
            "Clipping input data to the valid range for imshow with RGB data ([0..1] for floats or [0..255] for integers).\n",
            "Clipping input data to the valid range for imshow with RGB data ([0..1] for floats or [0..255] for integers).\n",
            "Clipping input data to the valid range for imshow with RGB data ([0..1] for floats or [0..255] for integers).\n",
            "Clipping input data to the valid range for imshow with RGB data ([0..1] for floats or [0..255] for integers).\n",
            "Clipping input data to the valid range for imshow with RGB data ([0..1] for floats or [0..255] for integers).\n",
            "43it [00:49,  1.00s/it, mIoU=1.56  fwIoU: 6.82 pixel acc: 10.48 per cls acc: 5.67]Clipping input data to the valid range for imshow with RGB data ([0..1] for floats or [0..255] for integers).\n",
            "48it [00:52,  1.80it/s, mIoU=1.54  fwIoU: 6.87 pixel acc: 10.71 per cls acc: 5.68]Clipping input data to the valid range for imshow with RGB data ([0..1] for floats or [0..255] for integers).\n",
            "Clipping input data to the valid range for imshow with RGB data ([0..1] for floats or [0..255] for integers).\n",
            "Clipping input data to the valid range for imshow with RGB data ([0..1] for floats or [0..255] for integers).\n",
            "Clipping input data to the valid range for imshow with RGB data ([0..1] for floats or [0..255] for integers).\n",
            "Clipping input data to the valid range for imshow with RGB data ([0..1] for floats or [0..255] for integers).\n",
            "49it [00:53,  1.18it/s, mIoU=1.54  fwIoU: 6.92 pixel acc: 10.76 per cls acc: 5.66]Clipping input data to the valid range for imshow with RGB data ([0..1] for floats or [0..255] for integers).\n",
            "Clipping input data to the valid range for imshow with RGB data ([0..1] for floats or [0..255] for integers).\n",
            "50it [00:54,  1.41it/s, mIoU=1.57  fwIoU: 7.07 pixel acc: 10.91 per cls acc: 5.61]Clipping input data to the valid range for imshow with RGB data ([0..1] for floats or [0..255] for integers).\n",
            "54it [00:58,  1.34it/s, mIoU=1.61  fwIoU: 7.30 pixel acc: 11.37 per cls acc: 5.66]Clipping input data to the valid range for imshow with RGB data ([0..1] for floats or [0..255] for integers).\n",
            "55it [00:58,  1.54it/s, mIoU=1.60  fwIoU: 7.28 pixel acc: 11.30 per cls acc: 5.65]Clipping input data to the valid range for imshow with RGB data ([0..1] for floats or [0..255] for integers).\n",
            "58it [00:59,  2.06it/s, mIoU=1.63  fwIoU: 7.45 pixel acc: 11.60 per cls acc: 5.78]Clipping input data to the valid range for imshow with RGB data ([0..1] for floats or [0..255] for integers).\n",
            "Clipping input data to the valid range for imshow with RGB data ([0..1] for floats or [0..255] for integers).\n",
            "Clipping input data to the valid range for imshow with RGB data ([0..1] for floats or [0..255] for integers).\n",
            "Clipping input data to the valid range for imshow with RGB data ([0..1] for floats or [0..255] for integers).\n",
            "Clipping input data to the valid range for imshow with RGB data ([0..1] for floats or [0..255] for integers).\n",
            "Clipping input data to the valid range for imshow with RGB data ([0..1] for floats or [0..255] for integers).\n",
            "59it [01:02,  1.14s/it, mIoU=1.62  fwIoU: 7.43 pixel acc: 11.54 per cls acc: 5.77]Clipping input data to the valid range for imshow with RGB data ([0..1] for floats or [0..255] for integers).\n",
            "Clipping input data to the valid range for imshow with RGB data ([0..1] for floats or [0..255] for integers).\n",
            "62it [01:05,  1.07it/s, mIoU=1.62  fwIoU: 7.48 pixel acc: 11.54 per cls acc: 5.79]Clipping input data to the valid range for imshow with RGB data ([0..1] for floats or [0..255] for integers).\n",
            "63it [01:06,  1.25it/s, mIoU=1.62  fwIoU: 7.47 pixel acc: 11.51 per cls acc: 5.79]Clipping input data to the valid range for imshow with RGB data ([0..1] for floats or [0..255] for integers).\n",
            "66it [01:07,  1.83it/s, mIoU=1.61  fwIoU: 7.49 pixel acc: 11.46 per cls acc: 5.67]Clipping input data to the valid range for imshow with RGB data ([0..1] for floats or [0..255] for integers).\n",
            "Clipping input data to the valid range for imshow with RGB data ([0..1] for floats or [0..255] for integers).\n",
            "Clipping input data to the valid range for imshow with RGB data ([0..1] for floats or [0..255] for integers).\n",
            "67it [01:07,  1.98it/s, mIoU=1.61  fwIoU: 7.45 pixel acc: 11.41 per cls acc: 5.69]Clipping input data to the valid range for imshow with RGB data ([0..1] for floats or [0..255] for integers).\n",
            "/content/gdrive/MyDrive/segmentation/data/cityscapes.py:154: RuntimeWarning: More than 20 figures have been opened. Figures created through the pyplot interface (`matplotlib.pyplot.figure`) are retained until explicitly closed and may consume too much memory. (To control this warning, see the rcParam `figure.max_open_warning`).\n",
            "  plt.figure()\n",
            "/content/gdrive/MyDrive/segmentation/data/cityscapes.py:154: RuntimeWarning: More than 20 figures have been opened. Figures created through the pyplot interface (`matplotlib.pyplot.figure`) are retained until explicitly closed and may consume too much memory. (To control this warning, see the rcParam `figure.max_open_warning`).\n",
            "  plt.figure()\n",
            "Clipping input data to the valid range for imshow with RGB data ([0..1] for floats or [0..255] for integers).\n",
            "Clipping input data to the valid range for imshow with RGB data ([0..1] for floats or [0..255] for integers).\n",
            "/content/gdrive/MyDrive/segmentation/data/cityscapes.py:154: RuntimeWarning: More than 20 figures have been opened. Figures created through the pyplot interface (`matplotlib.pyplot.figure`) are retained until explicitly closed and may consume too much memory. (To control this warning, see the rcParam `figure.max_open_warning`).\n",
            "  plt.figure()\n",
            "/content/gdrive/MyDrive/segmentation/data/cityscapes.py:154: RuntimeWarning: More than 20 figures have been opened. Figures created through the pyplot interface (`matplotlib.pyplot.figure`) are retained until explicitly closed and may consume too much memory. (To control this warning, see the rcParam `figure.max_open_warning`).\n",
            "  plt.figure()\n",
            "68it [01:11,  1.44s/it, mIoU=1.64  fwIoU: 7.52 pixel acc: 11.48 per cls acc: 5.80]Clipping input data to the valid range for imshow with RGB data ([0..1] for floats or [0..255] for integers).\n",
            "72it [01:12,  1.64it/s, mIoU=1.62  fwIoU: 7.51 pixel acc: 11.44 per cls acc: 5.75]/content/gdrive/MyDrive/segmentation/data/cityscapes.py:154: RuntimeWarning: More than 20 figures have been opened. Figures created through the pyplot interface (`matplotlib.pyplot.figure`) are retained until explicitly closed and may consume too much memory. (To control this warning, see the rcParam `figure.max_open_warning`).\n",
            "  plt.figure()\n",
            "73it [01:13,  1.84it/s, mIoU=1.61  fwIoU: 7.48 pixel acc: 11.38 per cls acc: 5.74]/content/gdrive/MyDrive/segmentation/data/cityscapes.py:143: RuntimeWarning: More than 20 figures have been opened. Figures created through the pyplot interface (`matplotlib.pyplot.figure`) are retained until explicitly closed and may consume too much memory. (To control this warning, see the rcParam `figure.max_open_warning`).\n",
            "  plt.figure()\n",
            "Clipping input data to the valid range for imshow with RGB data ([0..1] for floats or [0..255] for integers).\n",
            "74it [01:13,  2.02it/s, mIoU=1.60  fwIoU: 7.43 pixel acc: 11.29 per cls acc: 5.73]Clipping input data to the valid range for imshow with RGB data ([0..1] for floats or [0..255] for integers).\n",
            "Clipping input data to the valid range for imshow with RGB data ([0..1] for floats or [0..255] for integers).\n",
            "75it [01:13,  2.13it/s, mIoU=1.61  fwIoU: 7.49 pixel acc: 11.35 per cls acc: 5.75]Clipping input data to the valid range for imshow with RGB data ([0..1] for floats or [0..255] for integers).\n",
            "/content/gdrive/MyDrive/segmentation/data/cityscapes.py:143: RuntimeWarning: More than 20 figures have been opened. Figures created through the pyplot interface (`matplotlib.pyplot.figure`) are retained until explicitly closed and may consume too much memory. (To control this warning, see the rcParam `figure.max_open_warning`).\n",
            "  plt.figure()\n",
            "Clipping input data to the valid range for imshow with RGB data ([0..1] for floats or [0..255] for integers).\n",
            "/content/gdrive/MyDrive/segmentation/data/cityscapes.py:154: RuntimeWarning: More than 20 figures have been opened. Figures created through the pyplot interface (`matplotlib.pyplot.figure`) are retained until explicitly closed and may consume too much memory. (To control this warning, see the rcParam `figure.max_open_warning`).\n",
            "  plt.figure()\n",
            "/content/gdrive/MyDrive/segmentation/data/cityscapes.py:154: RuntimeWarning: More than 20 figures have been opened. Figures created through the pyplot interface (`matplotlib.pyplot.figure`) are retained until explicitly closed and may consume too much memory. (To control this warning, see the rcParam `figure.max_open_warning`).\n",
            "  plt.figure()\n",
            "/content/gdrive/MyDrive/segmentation/data/cityscapes.py:143: RuntimeWarning: More than 20 figures have been opened. Figures created through the pyplot interface (`matplotlib.pyplot.figure`) are retained until explicitly closed and may consume too much memory. (To control this warning, see the rcParam `figure.max_open_warning`).\n",
            "  plt.figure()\n",
            "Clipping input data to the valid range for imshow with RGB data ([0..1] for floats or [0..255] for integers).\n",
            "/content/gdrive/MyDrive/segmentation/data/cityscapes.py:154: RuntimeWarning: More than 20 figures have been opened. Figures created through the pyplot interface (`matplotlib.pyplot.figure`) are retained until explicitly closed and may consume too much memory. (To control this warning, see the rcParam `figure.max_open_warning`).\n",
            "  plt.figure()\n",
            "/content/gdrive/MyDrive/segmentation/data/cityscapes.py:143: RuntimeWarning: More than 20 figures have been opened. Figures created through the pyplot interface (`matplotlib.pyplot.figure`) are retained until explicitly closed and may consume too much memory. (To control this warning, see the rcParam `figure.max_open_warning`).\n",
            "  plt.figure()\n",
            "Clipping input data to the valid range for imshow with RGB data ([0..1] for floats or [0..255] for integers).\n",
            "/content/gdrive/MyDrive/segmentation/data/cityscapes.py:143: RuntimeWarning: More than 20 figures have been opened. Figures created through the pyplot interface (`matplotlib.pyplot.figure`) are retained until explicitly closed and may consume too much memory. (To control this warning, see the rcParam `figure.max_open_warning`).\n",
            "  plt.figure()\n",
            "Clipping input data to the valid range for imshow with RGB data ([0..1] for floats or [0..255] for integers).\n",
            "79it [01:19,  1.27it/s, mIoU=1.60  fwIoU: 7.41 pixel acc: 11.27 per cls acc: 5.79]Clipping input data to the valid range for imshow with RGB data ([0..1] for floats or [0..255] for integers).\n",
            "82it [01:20,  1.95it/s, mIoU=1.59  fwIoU: 7.40 pixel acc: 11.25 per cls acc: 5.77]/content/gdrive/MyDrive/segmentation/data/cityscapes.py:143: RuntimeWarning: More than 20 figures have been opened. Figures created through the pyplot interface (`matplotlib.pyplot.figure`) are retained until explicitly closed and may consume too much memory. (To control this warning, see the rcParam `figure.max_open_warning`).\n",
            "  plt.figure()\n",
            "/content/gdrive/MyDrive/segmentation/data/cityscapes.py:143: RuntimeWarning: More than 20 figures have been opened. Figures created through the pyplot interface (`matplotlib.pyplot.figure`) are retained until explicitly closed and may consume too much memory. (To control this warning, see the rcParam `figure.max_open_warning`).\n",
            "  plt.figure()\n",
            "Clipping input data to the valid range for imshow with RGB data ([0..1] for floats or [0..255] for integers).\n",
            "Clipping input data to the valid range for imshow with RGB data ([0..1] for floats or [0..255] for integers).\n",
            "83it [01:20,  2.01it/s, mIoU=1.59  fwIoU: 7.37 pixel acc: 11.20 per cls acc: 5.77]/content/gdrive/MyDrive/segmentation/data/cityscapes.py:143: RuntimeWarning: More than 20 figures have been opened. Figures created through the pyplot interface (`matplotlib.pyplot.figure`) are retained until explicitly closed and may consume too much memory. (To control this warning, see the rcParam `figure.max_open_warning`).\n",
            "  plt.figure()\n",
            "Clipping input data to the valid range for imshow with RGB data ([0..1] for floats or [0..255] for integers).\n",
            "Clipping input data to the valid range for imshow with RGB data ([0..1] for floats or [0..255] for integers).\n",
            "Clipping input data to the valid range for imshow with RGB data ([0..1] for floats or [0..255] for integers).\n",
            "Clipping input data to the valid range for imshow with RGB data ([0..1] for floats or [0..255] for integers).\n",
            "Clipping input data to the valid range for imshow with RGB data ([0..1] for floats or [0..255] for integers).\n",
            "86it [01:25,  1.06it/s, mIoU=1.58  fwIoU: 7.38 pixel acc: 11.20 per cls acc: 5.75]Clipping input data to the valid range for imshow with RGB data ([0..1] for floats or [0..255] for integers).\n",
            "90it [01:27,  1.97it/s, mIoU=1.58  fwIoU: 7.41 pixel acc: 11.20 per cls acc: 5.69]Clipping input data to the valid range for imshow with RGB data ([0..1] for floats or [0..255] for integers).\n",
            "91it [01:27,  2.04it/s, mIoU=1.58  fwIoU: 7.40 pixel acc: 11.21 per cls acc: 5.72]Clipping input data to the valid range for imshow with RGB data ([0..1] for floats or [0..255] for integers).\n",
            "Clipping input data to the valid range for imshow with RGB data ([0..1] for floats or [0..255] for integers).\n",
            "Clipping input data to the valid range for imshow with RGB data ([0..1] for floats or [0..255] for integers).\n",
            "Clipping input data to the valid range for imshow with RGB data ([0..1] for floats or [0..255] for integers).\n",
            "Clipping input data to the valid range for imshow with RGB data ([0..1] for floats or [0..255] for integers).\n",
            "Clipping input data to the valid range for imshow with RGB data ([0..1] for floats or [0..255] for integers).\n",
            "94it [01:32,  1.05it/s, mIoU=1.57  fwIoU: 7.34 pixel acc: 11.13 per cls acc: 5.72]Clipping input data to the valid range for imshow with RGB data ([0..1] for floats or [0..255] for integers).\n",
            "97it [01:33,  1.56it/s, mIoU=1.56  fwIoU: 7.30 pixel acc: 11.10 per cls acc: 5.74]Clipping input data to the valid range for imshow with RGB data ([0..1] for floats or [0..255] for integers).\n",
            "Clipping input data to the valid range for imshow with RGB data ([0..1] for floats or [0..255] for integers).\n",
            "99it [01:34,  1.93it/s, mIoU=1.58  fwIoU: 7.37 pixel acc: 11.17 per cls acc: 5.78]Clipping input data to the valid range for imshow with RGB data ([0..1] for floats or [0..255] for integers).\n",
            "Clipping input data to the valid range for imshow with RGB data ([0..1] for floats or [0..255] for integers).\n",
            "Clipping input data to the valid range for imshow with RGB data ([0..1] for floats or [0..255] for integers).\n",
            "Clipping input data to the valid range for imshow with RGB data ([0..1] for floats or [0..255] for integers).\n",
            "Clipping input data to the valid range for imshow with RGB data ([0..1] for floats or [0..255] for integers).\n",
            "102it [01:38,  1.17it/s, mIoU=1.57  fwIoU: 7.36 pixel acc: 11.10 per cls acc: 5.79]Clipping input data to the valid range for imshow with RGB data ([0..1] for floats or [0..255] for integers).\n",
            "104it [01:40,  1.28it/s, mIoU=1.56  fwIoU: 7.31 pixel acc: 11.00 per cls acc: 5.77]Clipping input data to the valid range for imshow with RGB data ([0..1] for floats or [0..255] for integers).\n",
            "Clipping input data to the valid range for imshow with RGB data ([0..1] for floats or [0..255] for integers).\n",
            "107it [01:42,  1.67it/s, mIoU=1.55  fwIoU: 7.24 pixel acc: 10.92 per cls acc: 5.79]Clipping input data to the valid range for imshow with RGB data ([0..1] for floats or [0..255] for integers).\n",
            "Clipping input data to the valid range for imshow with RGB data ([0..1] for floats or [0..255] for integers).\n",
            "Clipping input data to the valid range for imshow with RGB data ([0..1] for floats or [0..255] for integers).\n",
            "Clipping input data to the valid range for imshow with RGB data ([0..1] for floats or [0..255] for integers).\n",
            "108it [01:44,  1.08s/it, mIoU=1.56  fwIoU: 7.24 pixel acc: 10.94 per cls acc: 5.90]Clipping input data to the valid range for imshow with RGB data ([0..1] for floats or [0..255] for integers).\n",
            "110it [01:45,  1.37it/s, mIoU=1.57  fwIoU: 7.30 pixel acc: 10.99 per cls acc: 5.96]Clipping input data to the valid range for imshow with RGB data ([0..1] for floats or [0..255] for integers).\n",
            "Clipping input data to the valid range for imshow with RGB data ([0..1] for floats or [0..255] for integers).\n",
            "Clipping input data to the valid range for imshow with RGB data ([0..1] for floats or [0..255] for integers).\n",
            "113it [01:48,  1.27it/s, mIoU=1.56  fwIoU: 7.25 pixel acc: 10.93 per cls acc: 5.96]Clipping input data to the valid range for imshow with RGB data ([0..1] for floats or [0..255] for integers).\n",
            "115it [01:48,  1.71it/s, mIoU=1.56  fwIoU: 7.26 pixel acc: 10.93 per cls acc: 5.92]Clipping input data to the valid range for imshow with RGB data ([0..1] for floats or [0..255] for integers).\n",
            "Clipping input data to the valid range for imshow with RGB data ([0..1] for floats or [0..255] for integers).\n",
            "Clipping input data to the valid range for imshow with RGB data ([0..1] for floats or [0..255] for integers).\n",
            "Clipping input data to the valid range for imshow with RGB data ([0..1] for floats or [0..255] for integers).\n",
            "117it [01:51,  1.06it/s, mIoU=1.56  fwIoU: 7.30 pixel acc: 10.97 per cls acc: 5.91]Clipping input data to the valid range for imshow with RGB data ([0..1] for floats or [0..255] for integers).\n",
            "118it [01:52,  1.30it/s, mIoU=1.57  fwIoU: 7.30 pixel acc: 11.08 per cls acc: 5.94]Clipping input data to the valid range for imshow with RGB data ([0..1] for floats or [0..255] for integers).\n",
            "Clipping input data to the valid range for imshow with RGB data ([0..1] for floats or [0..255] for integers).\n",
            "120it [01:55,  1.03s/it, mIoU=1.57  fwIoU: 7.33 pixel acc: 11.14 per cls acc: 5.94]Clipping input data to the valid range for imshow with RGB data ([0..1] for floats or [0..255] for integers).\n",
            "123it [01:56,  1.58it/s, mIoU=1.58  fwIoU: 7.42 pixel acc: 11.28 per cls acc: 5.89]Clipping input data to the valid range for imshow with RGB data ([0..1] for floats or [0..255] for integers).\n",
            "Clipping input data to the valid range for imshow with RGB data ([0..1] for floats or [0..255] for integers).\n",
            "124it [01:57,  1.38it/s, mIoU=1.58  fwIoU: 7.49 pixel acc: 11.34 per cls acc: 5.87]Clipping input data to the valid range for imshow with RGB data ([0..1] for floats or [0..255] for integers).\n",
            "126it [01:58,  1.80it/s, mIoU=1.58  fwIoU: 7.49 pixel acc: 11.31 per cls acc: 5.87]Clipping input data to the valid range for imshow with RGB data ([0..1] for floats or [0..255] for integers).\n",
            "Clipping input data to the valid range for imshow with RGB data ([0..1] for floats or [0..255] for integers).\n",
            "Clipping input data to the valid range for imshow with RGB data ([0..1] for floats or [0..255] for integers).\n",
            "Clipping input data to the valid range for imshow with RGB data ([0..1] for floats or [0..255] for integers).\n",
            "Clipping input data to the valid range for imshow with RGB data ([0..1] for floats or [0..255] for integers).\n",
            "130it [02:03,  1.29it/s, mIoU=1.57  fwIoU: 7.47 pixel acc: 11.27 per cls acc: 5.83]Clipping input data to the valid range for imshow with RGB data ([0..1] for floats or [0..255] for integers).\n",
            "132it [02:04,  1.49it/s, mIoU=1.61  fwIoU: 7.46 pixel acc: 11.22 per cls acc: 5.90]Clipping input data to the valid range for imshow with RGB data ([0..1] for floats or [0..255] for integers).\n",
            "133it [02:04,  1.69it/s, mIoU=1.61  fwIoU: 7.43 pixel acc: 11.19 per cls acc: 5.91]Clipping input data to the valid range for imshow with RGB data ([0..1] for floats or [0..255] for integers).\n",
            "134it [02:05,  1.90it/s, mIoU=1.61  fwIoU: 7.48 pixel acc: 11.24 per cls acc: 5.92]Clipping input data to the valid range for imshow with RGB data ([0..1] for floats or [0..255] for integers).\n",
            "Clipping input data to the valid range for imshow with RGB data ([0..1] for floats or [0..255] for integers).\n",
            "Clipping input data to the valid range for imshow with RGB data ([0..1] for floats or [0..255] for integers).\n",
            "Clipping input data to the valid range for imshow with RGB data ([0..1] for floats or [0..255] for integers).\n",
            "Clipping input data to the valid range for imshow with RGB data ([0..1] for floats or [0..255] for integers).\n",
            "139it [02:10,  1.51it/s, mIoU=1.61  fwIoU: 7.51 pixel acc: 11.24 per cls acc: 5.90]Clipping input data to the valid range for imshow with RGB data ([0..1] for floats or [0..255] for integers).\n",
            "140it [02:11,  1.58it/s, mIoU=1.60  fwIoU: 7.49 pixel acc: 11.20 per cls acc: 5.89]Clipping input data to the valid range for imshow with RGB data ([0..1] for floats or [0..255] for integers).\n",
            "141it [02:11,  1.82it/s, mIoU=1.60  fwIoU: 7.47 pixel acc: 11.18 per cls acc: 5.90]Clipping input data to the valid range for imshow with RGB data ([0..1] for floats or [0..255] for integers).\n",
            "142it [02:11,  2.02it/s, mIoU=1.60  fwIoU: 7.45 pixel acc: 11.16 per cls acc: 5.89]Clipping input data to the valid range for imshow with RGB data ([0..1] for floats or [0..255] for integers).\n",
            "Clipping input data to the valid range for imshow with RGB data ([0..1] for floats or [0..255] for integers).\n",
            "Clipping input data to the valid range for imshow with RGB data ([0..1] for floats or [0..255] for integers).\n",
            "Clipping input data to the valid range for imshow with RGB data ([0..1] for floats or [0..255] for integers).\n",
            "Clipping input data to the valid range for imshow with RGB data ([0..1] for floats or [0..255] for integers).\n",
            "147it [02:17,  1.51it/s, mIoU=1.61  fwIoU: 7.52 pixel acc: 11.24 per cls acc: 5.97]Clipping input data to the valid range for imshow with RGB data ([0..1] for floats or [0..255] for integers).\n",
            "148it [02:18,  1.31it/s, mIoU=1.61  fwIoU: 7.51 pixel acc: 11.23 per cls acc: 5.97]Clipping input data to the valid range for imshow with RGB data ([0..1] for floats or [0..255] for integers).\n",
            "Clipping input data to the valid range for imshow with RGB data ([0..1] for floats or [0..255] for integers).\n",
            "149it [02:18,  1.51it/s, mIoU=1.61  fwIoU: 7.51 pixel acc: 11.23 per cls acc: 5.95]Clipping input data to the valid range for imshow with RGB data ([0..1] for floats or [0..255] for integers).\n",
            "150it [02:18,  1.73it/s, mIoU=1.61  fwIoU: 7.51 pixel acc: 11.23 per cls acc: 5.96]Clipping input data to the valid range for imshow with RGB data ([0..1] for floats or [0..255] for integers).\n",
            "Clipping input data to the valid range for imshow with RGB data ([0..1] for floats or [0..255] for integers).\n",
            "Clipping input data to the valid range for imshow with RGB data ([0..1] for floats or [0..255] for integers).\n",
            "Clipping input data to the valid range for imshow with RGB data ([0..1] for floats or [0..255] for integers).\n",
            "153it [02:23,  1.07it/s, mIoU=1.60  fwIoU: 7.51 pixel acc: 11.25 per cls acc: 5.93]Clipping input data to the valid range for imshow with RGB data ([0..1] for floats or [0..255] for integers).\n",
            "155it [02:24,  1.54it/s, mIoU=1.60  fwIoU: 7.51 pixel acc: 11.23 per cls acc: 5.93]Clipping input data to the valid range for imshow with RGB data ([0..1] for floats or [0..255] for integers).\n",
            "Clipping input data to the valid range for imshow with RGB data ([0..1] for floats or [0..255] for integers).\n",
            "157it [02:25,  1.52it/s, mIoU=1.60  fwIoU: 7.53 pixel acc: 11.28 per cls acc: 5.91]Clipping input data to the valid range for imshow with RGB data ([0..1] for floats or [0..255] for integers).\n",
            "158it [02:25,  1.76it/s, mIoU=1.60  fwIoU: 7.53 pixel acc: 11.30 per cls acc: 5.92]Clipping input data to the valid range for imshow with RGB data ([0..1] for floats or [0..255] for integers).\n",
            "Clipping input data to the valid range for imshow with RGB data ([0..1] for floats or [0..255] for integers).\n",
            "Clipping input data to the valid range for imshow with RGB data ([0..1] for floats or [0..255] for integers).\n",
            "159it [02:28,  1.26s/it, mIoU=1.59  fwIoU: 7.50 pixel acc: 11.23 per cls acc: 5.90]Clipping input data to the valid range for imshow with RGB data ([0..1] for floats or [0..255] for integers).\n",
            "161it [02:29,  1.21it/s, mIoU=1.59  fwIoU: 7.54 pixel acc: 11.27 per cls acc: 5.87]Clipping input data to the valid range for imshow with RGB data ([0..1] for floats or [0..255] for integers).\n",
            "164it [02:30,  1.65it/s, mIoU=1.60  fwIoU: 7.54 pixel acc: 11.26 per cls acc: 5.94]Clipping input data to the valid range for imshow with RGB data ([0..1] for floats or [0..255] for integers).\n",
            "166it [02:31,  2.04it/s, mIoU=1.60  fwIoU: 7.53 pixel acc: 11.25 per cls acc: 5.94]Clipping input data to the valid range for imshow with RGB data ([0..1] for floats or [0..255] for integers).\n",
            "Clipping input data to the valid range for imshow with RGB data ([0..1] for floats or [0..255] for integers).\n",
            "Clipping input data to the valid range for imshow with RGB data ([0..1] for floats or [0..255] for integers).\n",
            "Clipping input data to the valid range for imshow with RGB data ([0..1] for floats or [0..255] for integers).\n",
            "167it [02:35,  1.33s/it, mIoU=1.61  fwIoU: 7.55 pixel acc: 11.27 per cls acc: 5.95]Clipping input data to the valid range for imshow with RGB data ([0..1] for floats or [0..255] for integers).\n",
            "168it [02:35,  1.04s/it, mIoU=1.61  fwIoU: 7.52 pixel acc: 11.24 per cls acc: 5.96]Clipping input data to the valid range for imshow with RGB data ([0..1] for floats or [0..255] for integers).\n",
            "170it [02:36,  1.42it/s, mIoU=1.61  fwIoU: 7.53 pixel acc: 11.27 per cls acc: 5.99]Clipping input data to the valid range for imshow with RGB data ([0..1] for floats or [0..255] for integers).\n",
            "172it [02:37,  1.35it/s, mIoU=1.61  fwIoU: 7.53 pixel acc: 11.25 per cls acc: 5.98]Clipping input data to the valid range for imshow with RGB data ([0..1] for floats or [0..255] for integers).\n",
            "173it [02:37,  1.56it/s, mIoU=1.62  fwIoU: 7.54 pixel acc: 11.27 per cls acc: 6.12]Clipping input data to the valid range for imshow with RGB data ([0..1] for floats or [0..255] for integers).\n",
            "174it [02:38,  1.77it/s, mIoU=1.62  fwIoU: 7.53 pixel acc: 11.25 per cls acc: 6.12]Clipping input data to the valid range for imshow with RGB data ([0..1] for floats or [0..255] for integers).\n",
            "Clipping input data to the valid range for imshow with RGB data ([0..1] for floats or [0..255] for integers).\n",
            "Clipping input data to the valid range for imshow with RGB data ([0..1] for floats or [0..255] for integers).\n",
            "176it [02:42,  1.11s/it, mIoU=1.61  fwIoU: 7.50 pixel acc: 11.21 per cls acc: 6.10]Clipping input data to the valid range for imshow with RGB data ([0..1] for floats or [0..255] for integers).\n",
            "177it [02:42,  1.08it/s, mIoU=1.61  fwIoU: 7.53 pixel acc: 11.23 per cls acc: 6.09]Clipping input data to the valid range for imshow with RGB data ([0..1] for floats or [0..255] for integers).\n",
            "178it [02:43,  1.34it/s, mIoU=1.61  fwIoU: 7.57 pixel acc: 11.28 per cls acc: 6.09]Clipping input data to the valid range for imshow with RGB data ([0..1] for floats or [0..255] for integers).\n",
            "181it [02:44,  1.72it/s, mIoU=1.63  fwIoU: 7.61 pixel acc: 11.32 per cls acc: 6.13]Clipping input data to the valid range for imshow with RGB data ([0..1] for floats or [0..255] for integers).\n",
            "182it [02:44,  1.89it/s, mIoU=1.63  fwIoU: 7.61 pixel acc: 11.32 per cls acc: 6.13]Clipping input data to the valid range for imshow with RGB data ([0..1] for floats or [0..255] for integers).\n",
            "Clipping input data to the valid range for imshow with RGB data ([0..1] for floats or [0..255] for integers).\n",
            "Clipping input data to the valid range for imshow with RGB data ([0..1] for floats or [0..255] for integers).\n",
            "Clipping input data to the valid range for imshow with RGB data ([0..1] for floats or [0..255] for integers).\n",
            "Clipping input data to the valid range for imshow with RGB data ([0..1] for floats or [0..255] for integers).\n",
            "185it [02:50,  1.13s/it, mIoU=1.63  fwIoU: 7.64 pixel acc: 11.35 per cls acc: 6.13]Clipping input data to the valid range for imshow with RGB data ([0..1] for floats or [0..255] for integers).\n",
            "188it [02:52,  1.46it/s, mIoU=1.63  fwIoU: 7.62 pixel acc: 11.32 per cls acc: 6.14]Clipping input data to the valid range for imshow with RGB data ([0..1] for floats or [0..255] for integers).\n",
            "189it [02:53,  1.22it/s, mIoU=1.62  fwIoU: 7.62 pixel acc: 11.31 per cls acc: 6.12]Clipping input data to the valid range for imshow with RGB data ([0..1] for floats or [0..255] for integers).\n",
            "Clipping input data to the valid range for imshow with RGB data ([0..1] for floats or [0..255] for integers).\n",
            "190it [02:53,  1.39it/s, mIoU=1.62  fwIoU: 7.61 pixel acc: 11.30 per cls acc: 6.12]Clipping input data to the valid range for imshow with RGB data ([0..1] for floats or [0..255] for integers).\n",
            "Traceback (most recent call last):\n",
            "  File \"/usr/local/lib/python3.7/dist-packages/torch/utils/data/dataloader.py\", line 990, in _try_get_data\n",
            "    data = self._data_queue.get(timeout=timeout)\n",
            "  File \"/usr/lib/python3.7/multiprocessing/queues.py\", line 104, in get\n",
            "    if not self._poll(timeout):\n",
            "  File \"/usr/lib/python3.7/multiprocessing/connection.py\", line 257, in poll\n",
            "    return self._poll(timeout)\n",
            "  File \"/usr/lib/python3.7/multiprocessing/connection.py\", line 414, in _poll\n",
            "    r = wait([self], timeout)\n",
            "  File \"/usr/lib/python3.7/multiprocessing/connection.py\", line 921, in wait\n",
            "    ready = selector.select(timeout)\n",
            "  File \"/usr/lib/python3.7/selectors.py\", line 415, in select\n",
            "    fd_event_list = self._selector.poll(timeout)\n",
            "  File \"/usr/local/lib/python3.7/dist-packages/torch/utils/data/_utils/signal_handling.py\", line 66, in handler\n",
            "    _error_if_any_worker_fails()\n",
            "RuntimeError: DataLoader worker (pid 1384) is killed by signal: Killed. \n",
            "\n",
            "The above exception was the direct cause of the following exception:\n",
            "\n",
            "Traceback (most recent call last):\n",
            "  File \"../segmentation/eval_fcn.py\", line 92, in <module>\n",
            "    main()\n",
            "  File \"/usr/local/lib/python3.7/dist-packages/click/core.py\", line 829, in __call__\n",
            "    return self.main(*args, **kwargs)\n",
            "  File \"/usr/local/lib/python3.7/dist-packages/click/core.py\", line 782, in main\n",
            "    rv = self.invoke(ctx)\n",
            "  File \"/usr/local/lib/python3.7/dist-packages/click/core.py\", line 1066, in invoke\n",
            "    return ctx.invoke(self.callback, **ctx.params)\n",
            "  File \"/usr/local/lib/python3.7/dist-packages/click/core.py\", line 610, in invoke\n",
            "    return callback(*args, **kwargs)\n",
            "  File \"../segmentation/eval_fcn.py\", line 72, in main\n",
            "    for im_i, (im0,im, label) in iterations:\n",
            "  File \"/usr/local/lib/python3.7/dist-packages/tqdm/std.py\", line 1104, in __iter__\n",
            "    for obj in iterable:\n",
            "  File \"/usr/local/lib/python3.7/dist-packages/torch/utils/data/dataloader.py\", line 521, in __next__\n",
            "    data = self._next_data()\n",
            "  File \"/usr/local/lib/python3.7/dist-packages/torch/utils/data/dataloader.py\", line 1186, in _next_data\n",
            "    idx, data = self._get_data()\n",
            "  File \"/usr/local/lib/python3.7/dist-packages/torch/utils/data/dataloader.py\", line 1152, in _get_data\n",
            "    success, data = self._try_get_data()\n",
            "  File \"/usr/local/lib/python3.7/dist-packages/torch/utils/data/dataloader.py\", line 1003, in _try_get_data\n",
            "    raise RuntimeError('DataLoader worker (pid(s) {}) exited unexpectedly'.format(pids_str)) from e\n",
            "RuntimeError: DataLoader worker (pid(s) 1384) exited unexpectedly\n",
            "190it [02:57,  1.07it/s, mIoU=1.62  fwIoU: 7.61 pixel acc: 11.30 per cls acc: 6.12]\n"
          ],
          "name": "stdout"
        }
      ]
    },
    {
      "cell_type": "code",
      "metadata": {
        "id": "0w3nKry3xRfP",
        "colab": {
          "base_uri": "https://localhost:8080/"
        },
        "outputId": "353e6eaf-cda6-4be0-c2bc-e9b0f046dc0e"
      },
      "source": [
        "np.random.uniform(low = 0.0, high = 1.0, size = None)  "
      ],
      "execution_count": null,
      "outputs": [
        {
          "output_type": "execute_result",
          "data": {
            "text/plain": [
              "0.6880981261732095"
            ]
          },
          "metadata": {
            "tags": []
          },
          "execution_count": 59
        }
      ]
    },
    {
      "cell_type": "code",
      "metadata": {
        "id": "_z-h8DHd2hBa"
      },
      "source": [
        "#prepei na valw tin synthetic mesa sto while loop\n",
        "#kai sugkekrimena mesa sto if-else statement\n",
        "#kai efoson <=p (ara paragw synthetic) prepei kapws na tin valw ston dataloader\n",
        "#gia na mporw na prw to im1 kai to label \n",
        "#?"
      ],
      "execution_count": null,
      "outputs": []
    },
    {
      "cell_type": "code",
      "metadata": {
        "id": "3Fu29TC0kJU0"
      },
      "source": [
        ""
      ],
      "execution_count": null,
      "outputs": []
    }
  ]
}