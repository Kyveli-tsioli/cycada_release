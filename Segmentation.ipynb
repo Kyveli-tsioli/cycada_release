{
  "nbformat": 4,
  "nbformat_minor": 0,
  "metadata": {
    "colab": {
      "name": "Segmentation.ipynb",
      "provenance": [],
      "collapsed_sections": [],
      "machine_shape": "hm",
      "authorship_tag": "ABX9TyM5xsiyXafjHZJB4VbJGU3j",
      "include_colab_link": true
    },
    "kernelspec": {
      "name": "python3",
      "display_name": "Python 3"
    },
    "language_info": {
      "name": "python"
    },
    "accelerator": "GPU"
  },
  "cells": [
    {
      "cell_type": "markdown",
      "metadata": {
        "id": "view-in-github",
        "colab_type": "text"
      },
      "source": [
        "<a href=\"https://colab.research.google.com/github/Kyveli-tsioli/cycada_release/blob/master/Segmentation.ipynb\" target=\"_parent\"><img src=\"https://colab.research.google.com/assets/colab-badge.svg\" alt=\"Open In Colab\"/></a>"
      ]
    },
    {
      "cell_type": "code",
      "metadata": {
        "id": "b2fzOLPY9x4Z",
        "colab": {
          "base_uri": "https://localhost:8080/"
        },
        "outputId": "0bfbe797-ab3e-4bc6-8bb7-2d89123568e9"
      },
      "source": [
        "from google.colab import drive\n",
        "drive.mount('/content/gdrive',force_remount=True)"
      ],
      "execution_count": 1,
      "outputs": [
        {
          "output_type": "stream",
          "text": [
            "Mounted at /content/gdrive\n"
          ],
          "name": "stdout"
        }
      ]
    },
    {
      "cell_type": "code",
      "metadata": {
        "id": "bmjS1Ci0O5Ez"
      },
      "source": [
        "import torch\n",
        "import torch.nn as nn\n",
        "import torch.nn.functional as F\n",
        "import torch.optim as optim\n",
        "import torch.utils.data as data\n",
        "from torch.utils.data import Dataset, DataLoader\n",
        "\n",
        "\n",
        "import torchvision.transforms as transforms #common image transformations\n",
        "import torchvision.datasets as datasets\n",
        "\n",
        "import matplotlib.pyplot as plt\n",
        "import numpy as np\n",
        "import random\n",
        "\n",
        "import tensorflow as tf\n",
        "from tensorflow import keras\n",
        "from tensorflow.keras import layers\n",
        "from torch.autograd import Variable\n",
        "\n",
        "\n",
        "#imports for confusion matrix\n",
        "from sklearn.metrics import confusion_matrix\n",
        "from sklearn.metrics import plot_confusion_matrix\n",
        "import seaborn as sn\n",
        "import pandas as pd\n",
        "\n",
        "from copy import deepcopy\n",
        "from collections import deque\n",
        "from PIL import Image\n",
        "import math\n",
        "\n",
        "import os\n",
        "import shutil"
      ],
      "execution_count": 2,
      "outputs": []
    },
    {
      "cell_type": "code",
      "metadata": {
        "id": "jxFC43c775Wc"
      },
      "source": [
        "torch.cuda.empty_cache()"
      ],
      "execution_count": 3,
      "outputs": []
    },
    {
      "cell_type": "code",
      "metadata": {
        "colab": {
          "base_uri": "https://localhost:8080/"
        },
        "id": "YbIEqkXrcuMk",
        "outputId": "5cb467f6-7160-4f5e-ac8d-4e2af54572d4"
      },
      "source": [
        "!pip install torch==1.9.0 "
      ],
      "execution_count": 4,
      "outputs": [
        {
          "output_type": "stream",
          "text": [
            "Requirement already satisfied: torch==1.9.0 in /usr/local/lib/python3.7/dist-packages (1.9.0+cu102)\n",
            "Requirement already satisfied: typing-extensions in /usr/local/lib/python3.7/dist-packages (from torch==1.9.0) (3.7.4.3)\n"
          ],
          "name": "stdout"
        }
      ]
    },
    {
      "cell_type": "code",
      "metadata": {
        "colab": {
          "base_uri": "https://localhost:8080/"
        },
        "id": "sX_sKY1nsJVW",
        "outputId": "fc4f3d91-083c-40f1-84e2-f87039077430"
      },
      "source": [
        "!pip install torchvision --upgrade"
      ],
      "execution_count": 5,
      "outputs": [
        {
          "output_type": "stream",
          "text": [
            "Requirement already up-to-date: torchvision in /usr/local/lib/python3.7/dist-packages (0.10.0+cu102)\n",
            "Requirement already satisfied, skipping upgrade: numpy in /usr/local/lib/python3.7/dist-packages (from torchvision) (1.19.5)\n",
            "Requirement already satisfied, skipping upgrade: pillow>=5.3.0 in /usr/local/lib/python3.7/dist-packages (from torchvision) (7.1.2)\n",
            "Requirement already satisfied, skipping upgrade: torch==1.9.0 in /usr/local/lib/python3.7/dist-packages (from torchvision) (1.9.0+cu102)\n",
            "Requirement already satisfied, skipping upgrade: typing-extensions in /usr/local/lib/python3.7/dist-packages (from torch==1.9.0->torchvision) (3.7.4.3)\n"
          ],
          "name": "stdout"
        }
      ]
    },
    {
      "cell_type": "code",
      "metadata": {
        "id": "CRhKIM5VculS",
        "colab": {
          "base_uri": "https://localhost:8080/"
        },
        "outputId": "1c6ec64c-9686-4bc5-9b67-d8c54ff49a00"
      },
      "source": [
        "import torch\n",
        "print(torch.__version__)"
      ],
      "execution_count": 6,
      "outputs": [
        {
          "output_type": "stream",
          "text": [
            "1.9.0+cu102\n"
          ],
          "name": "stdout"
        }
      ]
    },
    {
      "cell_type": "code",
      "metadata": {
        "id": "QGiZpMjke8Z6"
      },
      "source": [
        "def get_device():\n",
        "    if torch.cuda.is_available():\n",
        "        device = 'cuda:0'\n",
        "    else:\n",
        "        device = 'cpu'\n",
        "    return device"
      ],
      "execution_count": 7,
      "outputs": []
    },
    {
      "cell_type": "code",
      "metadata": {
        "colab": {
          "base_uri": "https://localhost:8080/"
        },
        "id": "pzxX30adzOUk",
        "outputId": "de93993c-655e-4c34-afc7-b43ffccb2ecd"
      },
      "source": [
        "#packages to print our process memory usage\n",
        "!pip install gputil\n",
        "!pip install psutil\n",
        "!pip install humanize"
      ],
      "execution_count": 8,
      "outputs": [
        {
          "output_type": "stream",
          "text": [
            "Collecting gputil\n",
            "  Downloading https://files.pythonhosted.org/packages/ed/0e/5c61eedde9f6c87713e89d794f01e378cfd9565847d4576fa627d758c554/GPUtil-1.4.0.tar.gz\n",
            "Building wheels for collected packages: gputil\n",
            "  Building wheel for gputil (setup.py) ... \u001b[?25l\u001b[?25hdone\n",
            "  Created wheel for gputil: filename=GPUtil-1.4.0-cp37-none-any.whl size=7411 sha256=9e13c19e11deabebdd5f16349615b337d2968d2bf1f2145ddfd478b1407d3df3\n",
            "  Stored in directory: /root/.cache/pip/wheels/3d/77/07/80562de4bb0786e5ea186911a2c831fdd0018bda69beab71fd\n",
            "Successfully built gputil\n",
            "Installing collected packages: gputil\n",
            "Successfully installed gputil-1.4.0\n",
            "Requirement already satisfied: psutil in /usr/local/lib/python3.7/dist-packages (5.4.8)\n",
            "Requirement already satisfied: humanize in /usr/local/lib/python3.7/dist-packages (0.5.1)\n"
          ],
          "name": "stdout"
        }
      ]
    },
    {
      "cell_type": "code",
      "metadata": {
        "colab": {
          "base_uri": "https://localhost:8080/"
        },
        "id": "dbSAZ5pVqd5U",
        "outputId": "8869d3f8-36af-4739-ad68-3f554c6dcff1"
      },
      "source": [
        "!pip install tensorboardX"
      ],
      "execution_count": 9,
      "outputs": [
        {
          "output_type": "stream",
          "text": [
            "Collecting tensorboardX\n",
            "\u001b[?25l  Downloading https://files.pythonhosted.org/packages/99/0b/a26bbe92667c549d39c40b80c5ddec638fbae9521f04aeef26560e07e504/tensorboardX-2.4-py2.py3-none-any.whl (124kB)\n",
            "\r\u001b[K     |██▋                             | 10kB 19.5MB/s eta 0:00:01\r\u001b[K     |█████▎                          | 20kB 20.7MB/s eta 0:00:01\r\u001b[K     |████████                        | 30kB 11.1MB/s eta 0:00:01\r\u001b[K     |██████████▌                     | 40kB 9.2MB/s eta 0:00:01\r\u001b[K     |█████████████▏                  | 51kB 4.2MB/s eta 0:00:01\r\u001b[K     |███████████████▉                | 61kB 4.4MB/s eta 0:00:01\r\u001b[K     |██████████████████▍             | 71kB 4.8MB/s eta 0:00:01\r\u001b[K     |█████████████████████           | 81kB 4.9MB/s eta 0:00:01\r\u001b[K     |███████████████████████▊        | 92kB 5.0MB/s eta 0:00:01\r\u001b[K     |██████████████████████████▎     | 102kB 5.1MB/s eta 0:00:01\r\u001b[K     |█████████████████████████████   | 112kB 5.1MB/s eta 0:00:01\r\u001b[K     |███████████████████████████████▋| 122kB 5.1MB/s eta 0:00:01\r\u001b[K     |████████████████████████████████| 133kB 5.1MB/s \n",
            "\u001b[?25hRequirement already satisfied: numpy in /usr/local/lib/python3.7/dist-packages (from tensorboardX) (1.19.5)\n",
            "Requirement already satisfied: protobuf>=3.8.0 in /usr/local/lib/python3.7/dist-packages (from tensorboardX) (3.17.3)\n",
            "Requirement already satisfied: six>=1.9 in /usr/local/lib/python3.7/dist-packages (from protobuf>=3.8.0->tensorboardX) (1.15.0)\n",
            "Installing collected packages: tensorboardX\n",
            "Successfully installed tensorboardX-2.4\n"
          ],
          "name": "stdout"
        }
      ]
    },
    {
      "cell_type": "code",
      "metadata": {
        "colab": {
          "base_uri": "https://localhost:8080/"
        },
        "id": "LjqP7sX4LfpC",
        "outputId": "7e3f2de4-5757-4dd3-ee39-fb3483b12d50"
      },
      "source": [
        "print(os.getcwd())\n",
        "os.chdir('/content/gdrive/MyDrive/segmentation')\n",
        "print(os.getcwd())"
      ],
      "execution_count": 10,
      "outputs": [
        {
          "output_type": "stream",
          "text": [
            "/content\n",
            "/content/gdrive/MyDrive/segmentation\n"
          ],
          "name": "stdout"
        }
      ]
    },
    {
      "cell_type": "code",
      "metadata": {
        "id": "mvzL2es2lkWB",
        "colab": {
          "base_uri": "https://localhost:8080/"
        },
        "outputId": "b587e944-4af4-4731-c67f-10e838d0db02"
      },
      "source": [
        "!python ../segmentation/train_fcn.py \\\n",
        "--outdir results/cityscapes/cityscapes_fcn8s \\\n",
        "--model fcn8s \\\n",
        "--num_cls 19 \\\n",
        "--lr 1e-3 \\\n",
        "--batch_size 1 \\\n",
        "--momentum 0.9 \\\n",
        "--crop_size 500 \\\n",
        "--iterations 10 \\\n",
        "--downscale 1 \\\n",
        "--datadir /content/gdrive/MyDrive \\\n",
        "--dataset cityscapes \n",
        "\n",
        "#was iterations 100000\n",
        "#downscale 1 added\n",
        "#batch size was 6\n",
        "#crop size: size of patches, was 600 for the initial (original) dimension of the image (1024)\n",
        "#now i downscaled the image from 1024 to 512\n",
        "#so the crop_size should be less than 512 (600 was initially), i put it 500\n",
        "\n",
        "\n",
        "#need to give probability as hyperparameter given by the user "
      ],
      "execution_count": 17,
      "outputs": [
        {
          "output_type": "stream",
          "text": [
            "/usr/local/lib/python3.7/dist-packages/torchvision/transforms/transforms.py:281: UserWarning: Argument interpolation should be of type InterpolationMode instead of int. Please, use InterpolationMode enum.\n",
            "  \"Argument interpolation should be of type InterpolationMode instead of int. \"\n",
            "Resume from iteration 150000\n",
            "styles_real torch.Size([1, 8, 1, 1])\n",
            "content_code_real size torch.Size([1, 256, 128, 256])\n",
            "style encoder torch.Size([1, 8, 1, 1])\n",
            "synthetic values tensor([[[[ 0.4391,  0.4659,  0.4617,  ..., -0.6806, -0.7177, -0.6968],\n",
            "          [ 0.4305,  0.4576,  0.4573,  ..., -0.6976, -0.7166, -0.6909],\n",
            "          [ 0.4273,  0.4479,  0.4471,  ..., -0.7126, -0.7173, -0.6996],\n",
            "          ...,\n",
            "          [-0.3345, -0.3407, -0.3418,  ..., -0.5190, -0.5169, -0.5155],\n",
            "          [-0.3411, -0.3484, -0.3496,  ..., -0.5190, -0.5195, -0.5184],\n",
            "          [-0.3460, -0.3519, -0.3539,  ..., -0.5163, -0.5150, -0.5142]],\n",
            "\n",
            "         [[ 0.6519,  0.6722,  0.6789,  ..., -0.5738, -0.5893, -0.5406],\n",
            "          [ 0.6368,  0.6567,  0.6642,  ..., -0.6038, -0.6043, -0.5438],\n",
            "          [ 0.6263,  0.6456,  0.6529,  ..., -0.6189, -0.6079, -0.5511],\n",
            "          ...,\n",
            "          [-0.2410, -0.2447, -0.2440,  ..., -0.4249, -0.4195, -0.4181],\n",
            "          [-0.2443, -0.2466, -0.2471,  ..., -0.4219, -0.4211, -0.4185],\n",
            "          [-0.2487, -0.2520, -0.2526,  ..., -0.4215, -0.4185, -0.4173]],\n",
            "\n",
            "         [[ 0.6512,  0.6555,  0.6685,  ..., -0.5754, -0.5791, -0.5333],\n",
            "          [ 0.6311,  0.6319,  0.6466,  ..., -0.6064, -0.6112, -0.5507],\n",
            "          [ 0.6196,  0.6203,  0.6286,  ..., -0.6296, -0.6319, -0.5836],\n",
            "          ...,\n",
            "          [-0.3445, -0.3466, -0.3428,  ..., -0.4796, -0.4795, -0.4807],\n",
            "          [-0.3455, -0.3480, -0.3462,  ..., -0.4801, -0.4838, -0.4836],\n",
            "          [-0.3476, -0.3525, -0.3528,  ..., -0.4774, -0.4777, -0.4798]]]],\n",
            "       device='cuda:0', grad_fn=<TanhBackward>)\n",
            "max tensor(0.9996, device='cuda:0', grad_fn=<MaxBackward1>)\n",
            "min tensor(-0.8576, device='cuda:0', grad_fn=<MinBackward1>)\n",
            "type of synthetic <class 'torch.Tensor'>\n",
            "shape of synthetic torch.Size([1, 3, 512, 1024])\n",
            "/usr/local/lib/python3.7/dist-packages/torch/nn/functional.py:718: UserWarning: Named tensors and all their associated APIs are an experimental feature and subject to change. Please do not use them for anything important until they are released as stable. (Triggered internally at  /pytorch/c10/core/TensorImpl.h:1156.)\n",
            "  return torch.max_pool2d(input, kernel_size, stride, padding, dilation, ceil_mode)\n",
            "/usr/local/lib/python3.7/dist-packages/torch/nn/modules/loss.py:222: UserWarning: NLLLoss2d has been deprecated. Please use NLLLoss instead as a drop-in replacement and see https://pytorch.org/docs/master/nn.html#torch.nn.NLLLoss for more details.\n",
            "  warnings.warn(\"NLLLoss2d has been deprecated. \"\n",
            "/usr/local/lib/python3.7/dist-packages/torch/nn/_reduction.py:42: UserWarning: size_average and reduce args will be deprecated, please use reduction='mean' instead.\n",
            "  warnings.warn(warning.format(ret))\n",
            "../segmentation/train_fcn.py:42: UserWarning: Implicit dimension choice for log_softmax has been deprecated. Change the call to include dim=X as an argument.\n",
            "  loss = loss_fn_(F.log_softmax(score), label) #obtain log-probabilities by adding a log softmax layer in the last layer of the network\n",
            "[2021-07-19 09:20:06,736] INFO     Iteration 0:\t2.961252450942993\n",
            "[2021-07-19 09:20:16,802] INFO     Optimization complete.\n"
          ],
          "name": "stdout"
        }
      ]
    },
    {
      "cell_type": "code",
      "metadata": {
        "id": "0w3nKry3xRfP",
        "colab": {
          "base_uri": "https://localhost:8080/"
        },
        "outputId": "1b3bfc7b-4a4e-4c48-a765-037329dd10f7"
      },
      "source": [
        "np.random.uniform(low = 0.0, high = 1.0, size = None)  "
      ],
      "execution_count": null,
      "outputs": [
        {
          "output_type": "execute_result",
          "data": {
            "text/plain": [
              "0.12239748901995384"
            ]
          },
          "metadata": {
            "tags": []
          },
          "execution_count": 93
        }
      ]
    },
    {
      "cell_type": "code",
      "metadata": {
        "id": "_z-h8DHd2hBa"
      },
      "source": [
        "#prepei na valw tin synthetic mesa sto while loop\n",
        "#kai sugkekrimena mesa sto if-else statement\n",
        "#kai efoson <=p (ara paragw synthetic) prepei kapws na tin valw ston dataloader\n",
        "#gia na mporw na prw to im1 kai to label \n",
        "#?"
      ],
      "execution_count": null,
      "outputs": []
    }
  ]
}